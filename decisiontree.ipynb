{
 "cells": [
  {
   "cell_type": "code",
   "execution_count": 188,
   "id": "9c51c064",
   "metadata": {},
   "outputs": [],
   "source": [
    "import tensorflow as tf\n",
    "import os\n",
    "import pandas as pd\n",
    "import matplotlib.pyplot as plt"
   ]
  },
  {
   "cell_type": "code",
   "execution_count": 189,
   "id": "3be3ee51",
   "metadata": {},
   "outputs": [],
   "source": [
    "data = pd.read_csv(os.path.join(\"data\", \"train.csv\"))"
   ]
  },
  {
   "cell_type": "code",
   "execution_count": 190,
   "id": "7c6f135a",
   "metadata": {},
   "outputs": [],
   "source": [
    "data.drop(columns=[\"PassengerId\", \"Name\", \"Ticket\", \"Cabin\", \"Embarked\"], inplace=True)"
   ]
  },
  {
   "cell_type": "code",
   "execution_count": 191,
   "id": "f2ad2476",
   "metadata": {},
   "outputs": [
    {
     "name": "stdout",
     "output_type": "stream",
     "text": [
      "<class 'pandas.core.frame.DataFrame'>\n",
      "RangeIndex: 891 entries, 0 to 890\n",
      "Data columns (total 7 columns):\n",
      " #   Column    Non-Null Count  Dtype  \n",
      "---  ------    --------------  -----  \n",
      " 0   Survived  891 non-null    int64  \n",
      " 1   Pclass    891 non-null    int64  \n",
      " 2   Sex       891 non-null    object \n",
      " 3   Age       714 non-null    float64\n",
      " 4   SibSp     891 non-null    int64  \n",
      " 5   Parch     891 non-null    int64  \n",
      " 6   Fare      891 non-null    float64\n",
      "dtypes: float64(2), int64(4), object(1)\n",
      "memory usage: 48.9+ KB\n"
     ]
    }
   ],
   "source": [
    "data.info()"
   ]
  },
  {
   "cell_type": "code",
   "execution_count": 192,
   "id": "34b8ac37",
   "metadata": {},
   "outputs": [],
   "source": [
    "data[\"Family\"] = data[\"Parch\"] + data[\"SibSp\"]\n",
    "data.drop(columns=[\"Parch\", \"SibSp\"], inplace=True)"
   ]
  },
  {
   "cell_type": "code",
   "execution_count": 193,
   "id": "0e9f16a9",
   "metadata": {},
   "outputs": [
    {
     "data": {
      "text/html": [
       "<div>\n",
       "<style scoped>\n",
       "    .dataframe tbody tr th:only-of-type {\n",
       "        vertical-align: middle;\n",
       "    }\n",
       "\n",
       "    .dataframe tbody tr th {\n",
       "        vertical-align: top;\n",
       "    }\n",
       "\n",
       "    .dataframe thead th {\n",
       "        text-align: right;\n",
       "    }\n",
       "</style>\n",
       "<table border=\"1\" class=\"dataframe\">\n",
       "  <thead>\n",
       "    <tr style=\"text-align: right;\">\n",
       "      <th></th>\n",
       "      <th>Survived</th>\n",
       "      <th>Pclass</th>\n",
       "      <th>Sex</th>\n",
       "      <th>Age</th>\n",
       "      <th>Fare</th>\n",
       "      <th>Family</th>\n",
       "    </tr>\n",
       "  </thead>\n",
       "  <tbody>\n",
       "    <tr>\n",
       "      <th>0</th>\n",
       "      <td>0</td>\n",
       "      <td>3</td>\n",
       "      <td>male</td>\n",
       "      <td>22.0</td>\n",
       "      <td>7.2500</td>\n",
       "      <td>1</td>\n",
       "    </tr>\n",
       "    <tr>\n",
       "      <th>1</th>\n",
       "      <td>1</td>\n",
       "      <td>1</td>\n",
       "      <td>female</td>\n",
       "      <td>38.0</td>\n",
       "      <td>71.2833</td>\n",
       "      <td>1</td>\n",
       "    </tr>\n",
       "    <tr>\n",
       "      <th>2</th>\n",
       "      <td>1</td>\n",
       "      <td>3</td>\n",
       "      <td>female</td>\n",
       "      <td>26.0</td>\n",
       "      <td>7.9250</td>\n",
       "      <td>0</td>\n",
       "    </tr>\n",
       "    <tr>\n",
       "      <th>3</th>\n",
       "      <td>1</td>\n",
       "      <td>1</td>\n",
       "      <td>female</td>\n",
       "      <td>35.0</td>\n",
       "      <td>53.1000</td>\n",
       "      <td>1</td>\n",
       "    </tr>\n",
       "    <tr>\n",
       "      <th>4</th>\n",
       "      <td>0</td>\n",
       "      <td>3</td>\n",
       "      <td>male</td>\n",
       "      <td>35.0</td>\n",
       "      <td>8.0500</td>\n",
       "      <td>0</td>\n",
       "    </tr>\n",
       "  </tbody>\n",
       "</table>\n",
       "</div>"
      ],
      "text/plain": [
       "   Survived  Pclass     Sex   Age     Fare  Family\n",
       "0         0       3    male  22.0   7.2500       1\n",
       "1         1       1  female  38.0  71.2833       1\n",
       "2         1       3  female  26.0   7.9250       0\n",
       "3         1       1  female  35.0  53.1000       1\n",
       "4         0       3    male  35.0   8.0500       0"
      ]
     },
     "execution_count": 193,
     "metadata": {},
     "output_type": "execute_result"
    }
   ],
   "source": [
    "data.head()"
   ]
  },
  {
   "cell_type": "code",
   "execution_count": 194,
   "id": "11b8471d",
   "metadata": {},
   "outputs": [],
   "source": [
    "data[\"Age\"] = data[\"Age\"].fillna(data[\"Age\"].median())"
   ]
  },
  {
   "cell_type": "code",
   "execution_count": 195,
   "id": "161dad18",
   "metadata": {},
   "outputs": [],
   "source": [
    "X_data = data.drop(columns=[\"Survived\"])\n",
    "y_data = data[\"Survived\"]"
   ]
  },
  {
   "cell_type": "code",
   "execution_count": 196,
   "id": "3e63ea98",
   "metadata": {},
   "outputs": [
    {
     "name": "stdout",
     "output_type": "stream",
     "text": [
      "<class 'pandas.core.frame.DataFrame'>\n",
      "RangeIndex: 891 entries, 0 to 890\n",
      "Data columns (total 5 columns):\n",
      " #   Column  Non-Null Count  Dtype  \n",
      "---  ------  --------------  -----  \n",
      " 0   Pclass  891 non-null    int64  \n",
      " 1   Sex     891 non-null    object \n",
      " 2   Age     891 non-null    float64\n",
      " 3   Fare    891 non-null    float64\n",
      " 4   Family  891 non-null    int64  \n",
      "dtypes: float64(2), int64(2), object(1)\n",
      "memory usage: 34.9+ KB\n"
     ]
    }
   ],
   "source": [
    "X_data.info()"
   ]
  },
  {
   "cell_type": "code",
   "execution_count": 197,
   "id": "7db75d1a",
   "metadata": {},
   "outputs": [],
   "source": [
    "X_data[\"Sex\"] = X_data[\"Sex\"].map({\"male\": 0, \"female\": 1})"
   ]
  },
  {
   "cell_type": "code",
   "execution_count": 198,
   "id": "5380fa7a",
   "metadata": {},
   "outputs": [],
   "source": [
    "dataset = tf.data.Dataset.from_tensor_slices((X_data.values, y_data.values)).batch(32)"
   ]
  },
  {
   "cell_type": "code",
   "execution_count": 199,
   "id": "6ee66035",
   "metadata": {},
   "outputs": [
    {
     "data": {
      "text/plain": [
       "28"
      ]
     },
     "execution_count": 199,
     "metadata": {},
     "output_type": "execute_result"
    }
   ],
   "source": [
    "len(dataset)"
   ]
  },
  {
   "cell_type": "code",
   "execution_count": 200,
   "id": "a80d41e2",
   "metadata": {},
   "outputs": [
    {
     "data": {
      "text/plain": [
       "(19, 3, 6)"
      ]
     },
     "execution_count": 200,
     "metadata": {},
     "output_type": "execute_result"
    }
   ],
   "source": [
    "train_size = int(0.7 * len(dataset))\n",
    "val_size = int(0.1 * len(dataset)) + 1\n",
    "test_size = int(0.2 * len(dataset)) + 1\n",
    "train_size, val_size, test_size"
   ]
  },
  {
   "cell_type": "code",
   "execution_count": 201,
   "id": "bfba5eb9",
   "metadata": {},
   "outputs": [],
   "source": [
    "train_data = dataset.take(train_size)\n",
    "val_data = dataset.skip(train_size).take(val_size)\n",
    "test_data = dataset.skip(train_size + val_size).take(test_size)"
   ]
  },
  {
   "cell_type": "code",
   "execution_count": 202,
   "id": "48889c10",
   "metadata": {},
   "outputs": [],
   "source": [
    "from tensorflow_decision_forests.keras import GradientBoostedTreesModel\n",
    "import tensorflow_decision_forests as tfdf\n",
    "from tensorflow.keras.optimizers import Adam"
   ]
  },
  {
   "cell_type": "code",
   "execution_count": 203,
   "id": "c377f661",
   "metadata": {},
   "outputs": [
    {
     "name": "stdout",
     "output_type": "stream",
     "text": [
      "Use /tmp/tmpxxjxqunb as temporary training directory\n"
     ]
    },
    {
     "name": "stderr",
     "output_type": "stream",
     "text": [
      "W0000 00:00:1753172251.091502  168958 gradient_boosted_trees.cc:1873] \"goss_alpha\" set but \"sampling_method\" not equal to \"GOSS\".\n",
      "W0000 00:00:1753172251.091574  168958 gradient_boosted_trees.cc:1883] \"goss_beta\" set but \"sampling_method\" not equal to \"GOSS\".\n",
      "W0000 00:00:1753172251.091577  168958 gradient_boosted_trees.cc:1897] \"selective_gradient_boosting_ratio\" set but \"sampling_method\" not equal to \"SELGB\".\n"
     ]
    }
   ],
   "source": [
    "model = GradientBoostedTreesModel()\n",
    "model.compile(optimizer=\"adam\", loss=tf.keras.losses.BinaryCrossentropy(), metrics=[\"accuracy\"])"
   ]
  },
  {
   "cell_type": "code",
   "execution_count": 204,
   "id": "69cd5c48",
   "metadata": {},
   "outputs": [
    {
     "name": "stdout",
     "output_type": "stream",
     "text": [
      "Reading training dataset...\n",
      "Training dataset read in 0:00:00.152006. Found 608 examples.\n",
      "Reading validation dataset...\n",
      "Num validation examples: tf.Tensor(96, shape=(), dtype=int32)\n",
      "Validation dataset read in 0:00:00.103305. Found 96 examples.\n",
      "Training model...\n"
     ]
    },
    {
     "name": "stderr",
     "output_type": "stream",
     "text": [
      "I0000 00:00:1753172251.368351  168958 kernel.cc:782] Start Yggdrasil model training\n",
      "I0000 00:00:1753172251.368397  168958 kernel.cc:783] Collect training examples\n",
      "I0000 00:00:1753172251.368406  168958 kernel.cc:795] Dataspec guide:\n",
      "column_guides {\n",
      "  column_name_pattern: \"^__LABEL$\"\n",
      "  type: CATEGORICAL\n",
      "  categorial {\n",
      "    min_vocab_frequency: 0\n",
      "    max_vocab_count: -1\n",
      "  }\n",
      "}\n",
      "default_column_guide {\n",
      "  categorial {\n",
      "    max_vocab_count: 2000\n",
      "  }\n",
      "  discretized_numerical {\n",
      "    maximum_num_bins: 255\n",
      "  }\n",
      "}\n",
      "ignore_columns_without_guides: false\n",
      "detect_numerical_as_discretized_numerical: false\n",
      "\n",
      "I0000 00:00:1753172251.368495  168958 kernel.cc:401] Number of batches: 19\n",
      "I0000 00:00:1753172251.368503  168958 kernel.cc:402] Number of examples: 608\n",
      "I0000 00:00:1753172251.368533  168958 kernel.cc:802] Training dataset:\n",
      "Number of records: 608\n",
      "Number of columns: 6\n",
      "\n",
      "Number of columns by type:\n",
      "\tNUMERICAL: 5 (83.3333%)\n",
      "\tCATEGORICAL: 1 (16.6667%)\n",
      "\n",
      "Columns:\n",
      "\n",
      "NUMERICAL: 5 (83.3333%)\n",
      "\t1: \"data:0.0\" NUMERICAL mean:2.30592 min:1 max:3 sd:0.836167\n",
      "\t2: \"data:0.1\" NUMERICAL mean:0.368421 min:0 max:1 sd:0.482376\n",
      "\t3: \"data:0.2\" NUMERICAL mean:29.4359 min:0.75 max:71 sd:12.8615\n",
      "\t4: \"data:0.3\" NUMERICAL mean:31.6998 min:0 max:512.329 sd:45.9806\n",
      "\t5: \"data:0.4\" NUMERICAL mean:0.907895 min:0 max:10 sd:1.5795\n",
      "\n",
      "CATEGORICAL: 1 (16.6667%)\n",
      "\t0: \"__LABEL\" CATEGORICAL integerized vocab-size:3 no-ood-item\n",
      "\n",
      "Terminology:\n",
      "\tnas: Number of non-available (i.e. missing) values.\n",
      "\tood: Out of dictionary.\n",
      "\tmanually-defined: Attribute whose type is manually defined by the user, i.e., the type was not automatically inferred.\n",
      "\ttokenized: The attribute value is obtained through tokenization.\n",
      "\thas-dict: The attribute is attached to a string dictionary e.g. a categorical attribute stored as a string.\n",
      "\tvocab-size: Number of unique values.\n",
      "\n",
      "I0000 00:00:1753172251.368547  168958 kernel.cc:807] Collect validation dataset\n",
      "I0000 00:00:1753172251.368558  168958 kernel.cc:401] Number of batches: 3\n",
      "I0000 00:00:1753172251.368559  168958 kernel.cc:402] Number of examples: 96\n",
      "I0000 00:00:1753172251.368564  168958 kernel.cc:813] Validation dataset:\n",
      "Number of records: 96\n",
      "Number of columns: 6\n",
      "\n",
      "Number of columns by type:\n",
      "\tNUMERICAL: 5 (83.3333%)\n",
      "\tCATEGORICAL: 1 (16.6667%)\n",
      "\n",
      "Columns:\n",
      "\n",
      "NUMERICAL: 5 (83.3333%)\n",
      "\t1: \"data:0.0\" NUMERICAL mean:2.32292 min:1 max:3 sd:0.835349\n",
      "\t2: \"data:0.1\" NUMERICAL mean:0.302083 min:0 max:1 sd:0.459161\n",
      "\t3: \"data:0.2\" NUMERICAL mean:30.5443 min:0.75 max:80 sd:14.2465\n",
      "\t4: \"data:0.3\" NUMERICAL mean:37.0504 min:0 max:512.329 sd:62.9748\n",
      "\t5: \"data:0.4\" NUMERICAL mean:0.96875 min:0 max:7 sd:1.61021\n",
      "\n",
      "CATEGORICAL: 1 (16.6667%)\n",
      "\t0: \"__LABEL\" CATEGORICAL integerized vocab-size:3 no-ood-item\n",
      "\n",
      "Terminology:\n",
      "\tnas: Number of non-available (i.e. missing) values.\n",
      "\tood: Out of dictionary.\n",
      "\tmanually-defined: Attribute whose type is manually defined by the user, i.e., the type was not automatically inferred.\n",
      "\ttokenized: The attribute value is obtained through tokenization.\n",
      "\thas-dict: The attribute is attached to a string dictionary e.g. a categorical attribute stored as a string.\n",
      "\tvocab-size: Number of unique values.\n",
      "\n",
      "I0000 00:00:1753172251.368568  168958 kernel.cc:818] Configure learner\n",
      "W0000 00:00:1753172251.368709  168958 gradient_boosted_trees.cc:1873] \"goss_alpha\" set but \"sampling_method\" not equal to \"GOSS\".\n",
      "W0000 00:00:1753172251.368710  168958 gradient_boosted_trees.cc:1883] \"goss_beta\" set but \"sampling_method\" not equal to \"GOSS\".\n",
      "W0000 00:00:1753172251.368711  168958 gradient_boosted_trees.cc:1897] \"selective_gradient_boosting_ratio\" set but \"sampling_method\" not equal to \"SELGB\".\n",
      "I0000 00:00:1753172251.368733  168958 kernel.cc:831] Training config:\n",
      "learner: \"GRADIENT_BOOSTED_TREES\"\n",
      "features: \"^data:0\\\\.0$\"\n",
      "features: \"^data:0\\\\.1$\"\n",
      "features: \"^data:0\\\\.2$\"\n",
      "features: \"^data:0\\\\.3$\"\n",
      "features: \"^data:0\\\\.4$\"\n",
      "label: \"^__LABEL$\"\n",
      "task: CLASSIFICATION\n",
      "random_seed: 123456\n",
      "metadata {\n",
      "  framework: \"TF Keras\"\n",
      "}\n",
      "pure_serving_model: false\n",
      "[yggdrasil_decision_forests.model.gradient_boosted_trees.proto.gradient_boosted_trees_config] {\n",
      "  num_trees: 300\n",
      "  decision_tree {\n",
      "    max_depth: 6\n",
      "    min_examples: 5\n",
      "    in_split_min_examples_check: true\n",
      "    keep_non_leaf_label_distribution: true\n",
      "    num_candidate_attributes: -1\n",
      "    missing_value_policy: GLOBAL_IMPUTATION\n",
      "    allow_na_conditions: false\n",
      "    categorical_set_greedy_forward {\n",
      "      sampling: 0.1\n",
      "      max_num_items: -1\n",
      "      min_item_frequency: 1\n",
      "    }\n",
      "    growing_strategy_local {\n",
      "    }\n",
      "    categorical {\n",
      "      cart {\n",
      "      }\n",
      "    }\n",
      "    axis_aligned_split {\n",
      "    }\n",
      "    internal {\n",
      "      sorting_strategy: PRESORTED\n",
      "    }\n",
      "    uplift {\n",
      "      min_examples_in_treatment: 5\n",
      "      split_score: KULLBACK_LEIBLER\n",
      "    }\n",
      "    numerical_vector_sequence {\n",
      "      max_num_test_examples: 1000\n",
      "      num_random_selected_anchors: 100\n",
      "    }\n",
      "  }\n",
      "  shrinkage: 0.1\n",
      "  loss: DEFAULT\n",
      "  validation_set_ratio: 0.1\n",
      "  validation_interval_in_trees: 1\n",
      "  early_stopping: VALIDATION_LOSS_INCREASE\n",
      "  early_stopping_num_trees_look_ahead: 30\n",
      "  l2_regularization: 0\n",
      "  lambda_loss: 1\n",
      "  mart {\n",
      "  }\n",
      "  adapt_subsample_for_maximum_training_duration: false\n",
      "  l1_regularization: 0\n",
      "  use_hessian_gain: false\n",
      "  l2_regularization_categorical: 1\n",
      "  xe_ndcg {\n",
      "    ndcg_truncation: 5\n",
      "  }\n",
      "  stochastic_gradient_boosting {\n",
      "    ratio: 1\n",
      "  }\n",
      "  apply_link_function: true\n",
      "  compute_permutation_variable_importance: false\n",
      "  early_stopping_initial_iteration: 10\n",
      "}\n",
      "\n",
      "I0000 00:00:1753172251.368840  168958 kernel.cc:834] Deployment config:\n",
      "cache_path: \"/tmp/tmpxxjxqunb/working_cache\"\n",
      "num_threads: 14\n",
      "try_resume_training: true\n",
      "\n",
      "I0000 00:00:1753172251.368966  181782 kernel.cc:895] Train model\n",
      "I0000 00:00:1753172251.369232  181782 gradient_boosted_trees.cc:577] Default loss set to BINOMIAL_LOG_LIKELIHOOD\n",
      "I0000 00:00:1753172251.369259  181782 gradient_boosted_trees.cc:1190] Training gradient boosted tree on 608 example(s) and 5 feature(s).\n",
      "I0000 00:00:1753172251.369281  181782 gradient_boosted_trees.cc:1230] 608 examples used for training and 96 examples used for validation\n",
      "I0000 00:00:1753172251.369818  181782 gpu.cc:93] Cannot initialize GPU: Not compiled with GPU support\n",
      "I0000 00:00:1753172251.373392  181782 gradient_boosted_trees.cc:1632] Train tree 1/300 train-loss:1.240509 train-accuracy:0.606908 valid-loss:1.232571 valid-accuracy:0.645833 [total:0.00s iter:0.00s]\n",
      "I0000 00:00:1753172251.376779  181782 gradient_boosted_trees.cc:1632] Train tree 2/300 train-loss:1.157653 train-accuracy:0.740132 valid-loss:1.180274 valid-accuracy:0.718750 [total:0.01s iter:0.00s]\n",
      "I0000 00:00:1753172251.381214  181782 gradient_boosted_trees.cc:1634] Train tree 3/300 train-loss:1.089176 train-accuracy:0.814145 valid-loss:1.133757 valid-accuracy:0.750000 [total:0.01s iter:0.00s]\n"
     ]
    },
    {
     "name": "stdout",
     "output_type": "stream",
     "text": [
      "Model trained in 0:00:00.318190\n",
      "Compiling model...\n",
      "Model compiled.\n"
     ]
    },
    {
     "name": "stderr",
     "output_type": "stream",
     "text": [
      "I0000 00:00:1753172251.671823  181782 early_stopping.cc:54] Early stop of the training because the validation loss does not decrease anymore. Best valid-loss: 0.865071\n",
      "I0000 00:00:1753172251.671938  181782 gradient_boosted_trees.cc:1669] Create final snapshot of the model at iteration 76\n",
      "I0000 00:00:1753172251.674075  181782 gradient_boosted_trees.cc:279] Truncates the model to 47 tree(s) i.e. 47  iteration(s).\n",
      "I0000 00:00:1753172251.674193  181782 gradient_boosted_trees.cc:341] Final model num-trees:47 valid-loss:0.865071 valid-accuracy:0.822917\n",
      "I0000 00:00:1753172251.674601  181782 kernel.cc:926] Export model in log directory: /tmp/tmpxxjxqunb with prefix 3ccecdcbf8a24878\n",
      "I0000 00:00:1753172251.676042  181782 kernel.cc:944] Save model in resources\n",
      "I0000 00:00:1753172251.677544  168958 abstract_model.cc:921] Model self evaluation:\n",
      "Task: CLASSIFICATION\n",
      "Label: __LABEL\n",
      "Loss (BINOMIAL_LOG_LIKELIHOOD): 0.865071\n",
      "\n",
      "Accuracy: 0.822917  CI95[W][0 1]\n",
      "ErrorRate: : 0.177083\n",
      "\n",
      "\n",
      "Confusion Table:\n",
      "truth\\prediction\n",
      "    1   2\n",
      "1  58   4\n",
      "2  13  21\n",
      "Total: 96\n",
      "\n",
      "\n",
      "2025-07-22 08:17:31.682206: I tensorflow_decision_forests/tensorflow/ops/inference/kernel.cc:1206] Loading model from path /tmp/tmpxxjxqunb/model/ with prefix 3ccecdcbf8a24878\n",
      "I0000 00:00:1753172251.683998  168958 quick_scorer_extended.cc:927] The binary was compiled without AVX2 support, but your CPU supports it. Enable it for faster model inference.\n",
      "I0000 00:00:1753172251.684154  168958 abstract_model.cc:1439] Engine \"GradientBoostedTreesQuickScorerExtended\" built\n",
      "2025-07-22 08:17:31.684174: I tensorflow_decision_forests/tensorflow/ops/inference/kernel.cc:1035] Use fast generic engine\n"
     ]
    }
   ],
   "source": [
    "history = model.fit(train_data, validation_data=val_data)"
   ]
  },
  {
   "cell_type": "code",
   "execution_count": 205,
   "id": "a87b2082",
   "metadata": {},
   "outputs": [
    {
     "data": {
      "text/plain": [
       "{'val_loss': [0.4325355291366577], 'val_accuracy': [0.8229166865348816]}"
      ]
     },
     "execution_count": 205,
     "metadata": {},
     "output_type": "execute_result"
    }
   ],
   "source": [
    "history.history"
   ]
  },
  {
   "cell_type": "code",
   "execution_count": 206,
   "id": "a58fb82b",
   "metadata": {},
   "outputs": [],
   "source": [
    "test_dataset = pd.read_csv(os.path.join(\"data\", \"test.csv\"))"
   ]
  },
  {
   "cell_type": "code",
   "execution_count": 207,
   "id": "4a2c3ad0",
   "metadata": {},
   "outputs": [],
   "source": [
    "test_dataset.drop(columns=[\"PassengerId\", \"Name\", \"Ticket\", \"Cabin\", \"Embarked\"], inplace=True)"
   ]
  },
  {
   "cell_type": "code",
   "execution_count": 208,
   "id": "da852d55",
   "metadata": {},
   "outputs": [],
   "source": [
    "test_dataset[\"Family\"] = test_dataset[\"Parch\"] + test_dataset[\"SibSp\"]\n",
    "test_dataset.drop(columns=[\"Parch\", \"SibSp\"], inplace=True)"
   ]
  },
  {
   "cell_type": "code",
   "execution_count": 209,
   "id": "aee3bd62",
   "metadata": {},
   "outputs": [],
   "source": [
    "test_dataset[\"Age\"] = test_dataset[\"Age\"].fillna(test_dataset[\"Age\"].median())"
   ]
  },
  {
   "cell_type": "code",
   "execution_count": 210,
   "id": "b06e6456",
   "metadata": {},
   "outputs": [],
   "source": [
    "test_dataset[\"Sex\"] = test_dataset[\"Sex\"].map({\"male\": 0, \"female\": 1})"
   ]
  },
  {
   "cell_type": "code",
   "execution_count": 211,
   "id": "31f4c897",
   "metadata": {},
   "outputs": [
    {
     "data": {
      "text/html": [
       "<div>\n",
       "<style scoped>\n",
       "    .dataframe tbody tr th:only-of-type {\n",
       "        vertical-align: middle;\n",
       "    }\n",
       "\n",
       "    .dataframe tbody tr th {\n",
       "        vertical-align: top;\n",
       "    }\n",
       "\n",
       "    .dataframe thead th {\n",
       "        text-align: right;\n",
       "    }\n",
       "</style>\n",
       "<table border=\"1\" class=\"dataframe\">\n",
       "  <thead>\n",
       "    <tr style=\"text-align: right;\">\n",
       "      <th></th>\n",
       "      <th>Pclass</th>\n",
       "      <th>Sex</th>\n",
       "      <th>Age</th>\n",
       "      <th>Fare</th>\n",
       "      <th>Family</th>\n",
       "    </tr>\n",
       "  </thead>\n",
       "  <tbody>\n",
       "    <tr>\n",
       "      <th>0</th>\n",
       "      <td>3</td>\n",
       "      <td>0</td>\n",
       "      <td>34.5</td>\n",
       "      <td>7.8292</td>\n",
       "      <td>0</td>\n",
       "    </tr>\n",
       "    <tr>\n",
       "      <th>1</th>\n",
       "      <td>3</td>\n",
       "      <td>1</td>\n",
       "      <td>47.0</td>\n",
       "      <td>7.0000</td>\n",
       "      <td>1</td>\n",
       "    </tr>\n",
       "    <tr>\n",
       "      <th>2</th>\n",
       "      <td>2</td>\n",
       "      <td>0</td>\n",
       "      <td>62.0</td>\n",
       "      <td>9.6875</td>\n",
       "      <td>0</td>\n",
       "    </tr>\n",
       "    <tr>\n",
       "      <th>3</th>\n",
       "      <td>3</td>\n",
       "      <td>0</td>\n",
       "      <td>27.0</td>\n",
       "      <td>8.6625</td>\n",
       "      <td>0</td>\n",
       "    </tr>\n",
       "    <tr>\n",
       "      <th>4</th>\n",
       "      <td>3</td>\n",
       "      <td>1</td>\n",
       "      <td>22.0</td>\n",
       "      <td>12.2875</td>\n",
       "      <td>2</td>\n",
       "    </tr>\n",
       "  </tbody>\n",
       "</table>\n",
       "</div>"
      ],
      "text/plain": [
       "   Pclass  Sex   Age     Fare  Family\n",
       "0       3    0  34.5   7.8292       0\n",
       "1       3    1  47.0   7.0000       1\n",
       "2       2    0  62.0   9.6875       0\n",
       "3       3    0  27.0   8.6625       0\n",
       "4       3    1  22.0  12.2875       2"
      ]
     },
     "execution_count": 211,
     "metadata": {},
     "output_type": "execute_result"
    }
   ],
   "source": [
    "test_dataset.head()"
   ]
  },
  {
   "cell_type": "code",
   "execution_count": 212,
   "id": "529476fc",
   "metadata": {},
   "outputs": [
    {
     "name": "stdout",
     "output_type": "stream",
     "text": [
      "14/14 [==============================] - 0s 2ms/step\n"
     ]
    }
   ],
   "source": [
    "predictions = model.predict(test_dataset)"
   ]
  },
  {
   "cell_type": "code",
   "execution_count": 214,
   "id": "e14dedba",
   "metadata": {},
   "outputs": [],
   "source": [
    "predictions\n",
    "predictions_binary = (predictions > 0.5).astype(int)"
   ]
  },
  {
   "cell_type": "code",
   "execution_count": 215,
   "id": "d52353bd",
   "metadata": {},
   "outputs": [],
   "source": [
    "test_dataset_copy = pd.read_csv(os.path.join(\"data\", \"test.csv\"))"
   ]
  },
  {
   "cell_type": "code",
   "execution_count": 216,
   "id": "c04f9677",
   "metadata": {},
   "outputs": [],
   "source": [
    "submission = pd.DataFrame({\n",
    "    'PassengerId': test_dataset_copy['PassengerId'],\n",
    "    'Survived': predictions_binary.flatten()\n",
    "})"
   ]
  },
  {
   "cell_type": "code",
   "execution_count": 217,
   "id": "1de5eee1",
   "metadata": {},
   "outputs": [],
   "source": [
    "submission.to_csv(os.path.join(\"data\", \"submission2.csv\"), index = False)"
   ]
  },
  {
   "cell_type": "code",
   "execution_count": null,
   "id": "78113e6a",
   "metadata": {},
   "outputs": [],
   "source": []
  }
 ],
 "metadata": {
  "kernelspec": {
   "display_name": ".venv",
   "language": "python",
   "name": "python3"
  },
  "language_info": {
   "codemirror_mode": {
    "name": "ipython",
    "version": 3
   },
   "file_extension": ".py",
   "mimetype": "text/x-python",
   "name": "python",
   "nbconvert_exporter": "python",
   "pygments_lexer": "ipython3",
   "version": "3.12.3"
  }
 },
 "nbformat": 4,
 "nbformat_minor": 5
}
